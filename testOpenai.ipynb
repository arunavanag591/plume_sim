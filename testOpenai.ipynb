{
 "cells": [
  {
   "cell_type": "code",
   "execution_count": 1,
   "id": "flexible-garden",
   "metadata": {},
   "outputs": [],
   "source": [
    "import os\n",
    "import openai\n",
    "import pandas as pd\n",
    "import h5py\n",
    "import requests\n",
    "import json\n",
    "import re\n",
    "import openpyxl\n",
    "import matplotlib.pyplot as plt"
   ]
  },
  {
   "cell_type": "code",
   "execution_count": 2,
   "id": "australian-january",
   "metadata": {},
   "outputs": [],
   "source": [
    "def read_first_cell(file_path):\n",
    "    workbook = openpyxl.load_workbook(file_path)\n",
    "    sheet = workbook.active\n",
    "    first_cell = sheet.cell(row=1, column=1)\n",
    "    return first_cell.value\n",
    "\n",
    "file_path = '../openaikey.xlsx'  # Replace with the path to your Excel file\n",
    "first_cell_value = read_first_cell(file_path)\n",
    "\n",
    "openai.api_key=first_cell_value"
   ]
  },
  {
   "cell_type": "markdown",
   "id": "central-cooling",
   "metadata": {},
   "source": [
    "### General Prompt Generator"
   ]
  },
  {
   "cell_type": "code",
   "execution_count": 3,
   "id": "varying-hopkins",
   "metadata": {},
   "outputs": [
    {
     "name": "stdout",
     "output_type": "stream",
     "text": [
      "As an AI language model, I don't have tokens or any other physical form or currency. I exist solely in code, running on servers. My purpose is to assist you in generating text based on your input.\n"
     ]
    }
   ],
   "source": [
    "\n",
    "API_ENDPOINT = \"https://api.openai.com/v1/chat/completions\"\n",
    "\n",
    "def generate_chat_completion(messages, model=\"gpt-3.5-turbo\", temperature=1, max_tokens=None):\n",
    "    headers = {\n",
    "        \"Content-Type\": \"application/json\",\n",
    "        \"Authorization\": f\"Bearer {first_cell_value}\",\n",
    "    }\n",
    "\n",
    "    data = {\n",
    "        \"model\": model,\n",
    "        \"messages\": messages,\n",
    "        \"temperature\": temperature,\n",
    "    }\n",
    "\n",
    "    if max_tokens is not None:\n",
    "        data[\"max_tokens\"] = max_tokens\n",
    "\n",
    "    response = requests.post(API_ENDPOINT, headers=headers, data=json.dumps(data))\n",
    "\n",
    "    if response.status_code == 200:\n",
    "        return response.json()[\"choices\"][0][\"message\"][\"content\"]\n",
    "    else:\n",
    "        raise Exception(f\"Error {response.status_code}: {response.text}\")\n",
    "\n",
    "messages = [\n",
    "    {\"role\": \"system\", \"content\": \"You are a helpful assistant.\"},\n",
    "    {\"role\": \"user\", \"content\": \"How many tokens do you have'\"}\n",
    "]\n",
    "\n",
    "response_text = generate_chat_completion(messages)\n",
    "print(response_text)"
   ]
  },
  {
   "cell_type": "markdown",
   "id": "champion-forward",
   "metadata": {},
   "source": [
    "## Using a dataframe to generate fake value"
   ]
  },
  {
   "cell_type": "code",
   "execution_count": 3,
   "id": "planned-belfast",
   "metadata": {},
   "outputs": [],
   "source": [
    "dir = '~/Documents/MyFiles/DataAnalysis/data/Sprints/HighRes/'\n",
    "df = pd.read_hdf(dir+'Windy/WindyMASigned.h5')\n",
    "\n",
    "df1=df[200:500]"
   ]
  },
  {
   "cell_type": "code",
   "execution_count": 4,
   "id": "bulgarian-hollywood",
   "metadata": {},
   "outputs": [],
   "source": [
    "df1=df1.round(3)"
   ]
  },
  {
   "cell_type": "code",
   "execution_count": 16,
   "id": "upper-stock",
   "metadata": {},
   "outputs": [
    {
     "name": "stdout",
     "output_type": "stream",
     "text": [
      ".\n",
      "Odor encounter: 0.637, Location: (1.437, -0.701), U velocity: 1.945, V velocity: 1.606.\n",
      " at the given time.\n",
      "Generate a new odor encounter with its location and wind velocity at the given time.\n",
      "Odor encounter: 0.638, Location: (1.437, -0.701), U velocity: 1.\n",
      ": \n",
      "Odor encounter: 10.289, Location: (1.445, -0.702), U velocity: 1.919, V velocity: 1.641.\n",
      "\n",
      "Odor encounter: 10.289, Location: (1.445, -0.712), U velocity: 1.671, V velocity: 1.799.\n",
      ":\n",
      "\n",
      "Odor encounter: 10.289, Location: (1.44, -0.707), U velocity: 1.64, V velocity: 2.001.\n"
     ]
    }
   ],
   "source": [
    "\n",
    "\n",
    "# Create a new DataFrame to store generated data\n",
    "generated_df = pd.DataFrame(columns=['odor', 'xsrc', 'ysrc', 'U', 'V'])\n",
    "\n",
    "# Set the chunk size\n",
    "chunk_size = 60\n",
    "\n",
    "# Divide the DataFrame into smaller chunks\n",
    "num_chunks = (len(df1) - 1) // chunk_size + 1\n",
    "\n",
    "for chunk_index in range(num_chunks):\n",
    "    start_index = chunk_index * chunk_size\n",
    "    end_index = min((chunk_index + 1) * chunk_size, len(df1))\n",
    "    chunk_df = df1.iloc[start_index:end_index]\n",
    "\n",
    "    # Convert the chunk DataFrame to textual format\n",
    "    text_data = \"\"\n",
    "    for idx, row in chunk_df.iterrows():\n",
    "        text_data += f\"Odor encounter: {row['odor']}, Location: ({row['xsrc']}, {row['ysrc']}), U velocity: {row['U']}, V velocity: {row['V']}.\\n\"\n",
    "\n",
    "#     # Prepare the prompt\n",
    "    prompt = f\"{text_data}\\nGenerate a new odor encounter with its location and wind velocity\"\n",
    "    \n",
    "#     prompt = f\"{text_data}\\nGenerate a new odor encounter with the following location: ({input_row['xsrc']}, {input_row['ysrc']}) and U velocity: {input_row['U']}, V velocity: {input_row['V']}.\"\n",
    "    \n",
    "    # Generate new data using GPT-3\n",
    "    response = openai.Completion.create(\n",
    "        engine=\"text-davinci-002\",  # Replace with the GPT-Turbo 3.5 engine name\n",
    "        prompt=prompt,\n",
    "        temperature=0.7,\n",
    "        max_tokens=50,\n",
    "        top_p=1,\n",
    "        frequency_penalty=0,\n",
    "        presence_penalty=0,\n",
    "    )\n",
    "    \n",
    "\n",
    "    generated_texts = response.choices[0].text.strip()\n",
    "    print(response.choices[0].text)\n",
    "    \n",
    "\n",
    "\n",
    "    # Parse the generated text\n",
    "#     pattern = r\"Odor encounter: (.*), Location: \\((.*), (.*)\\), U velocity: (.*), V velocity: (.*).\"\n",
    "#     match = re.match(pattern, generated_text)\n",
    "# #     print(generated_text)\n",
    "#     if match:\n",
    "#         new_entry = {\n",
    "#             \"odor\": float(match.group(1)),\n",
    "#             \"xsrc\": float(match.group(2)),\n",
    "#             \"ysrc\": float(match.group(3)),\n",
    "#             \"U\": float(match.group(4)),\n",
    "#             \"V\": float(match.group(5)),\n",
    "#         }\n",
    "#         print(new_entry)\n",
    "#         # Add the new entry to the generated DataFrame\n",
    "#         generated_df = generated_df.append(new_entry, ignore_index=True)\n",
    "#     else:\n",
    "#         print(\"Failed to parse generated text\")\n",
    "# #         print(generated_text)\n",
    "\n",
    "\n",
    "\n",
    "# generated_df"
   ]
  },
  {
   "cell_type": "code",
   "execution_count": 13,
   "id": "italic-dating",
   "metadata": {},
   "outputs": [
    {
     "name": "stdout",
     "output_type": "stream",
     "text": [
      "Odor encounter: 0.636\n",
      "Location: (1.437, -0.701)\n",
      "U velocity: 1.851\n",
      "V velocity: 1.617\n"
     ]
    }
   ],
   "source": [
    "import re\n",
    "\n",
    "# Example generated text\n",
    "generated_text = \"Odor encounter: 0.636, Location: (1.437, -0.701), U velocity: 1.851, V velocity: 1.617\"\n",
    "\n",
    "# Define the pattern to match the text\n",
    "pattern = r\"Odor encounter: (.*), Location: \\((.*), (.*)\\), U velocity: (.*), V velocity: (.*)\"\n",
    "\n",
    "# Use the pattern to extract the relevant information\n",
    "match = re.match(pattern, generated_text)\n",
    "if match:\n",
    "    odor_encounter = float(match.group(1))\n",
    "    x_location = float(match.group(2))\n",
    "    y_location = float(match.group(3))\n",
    "    u_velocity = float(match.group(4))\n",
    "    v_velocity = float(match.group(5))\n",
    "\n",
    "print(f\"Odor encounter: {odor_encounter}\")\n",
    "print(f\"Location: ({x_location}, {y_location})\")\n",
    "print(f\"U velocity: {u_velocity}\")\n",
    "print(f\"V velocity: {v_velocity}\")"
   ]
  },
  {
   "cell_type": "code",
   "execution_count": 51,
   "id": "infectious-scottish",
   "metadata": {},
   "outputs": [
    {
     "name": "stdout",
     "output_type": "stream",
     "text": [
      ".5.\n",
      "\n",
      "Odor encounter: 0.6419, Location: (10, 10), U velocity: 1.5, V velocity: 1.5.\n",
      "Failed to parse generated text\n",
      "Empty DataFrame\n",
      "Columns: [odor, xsrc, ysrc, U, V]\n",
      "Index: []\n"
     ]
    }
   ],
   "source": [
    "    generated_text = response.choices[0].text.strip()\n",
    "    print(generated_text)\n",
    "    # Parse the generated text\n",
    "    pattern = r\"Odor encounter: (.*), Location: \\((.*), (.*)\\), U velocity: (.*), V velocity: (.*).\"\n",
    "    match = re.match(pattern, generated_text)\n",
    "\n",
    "    if match:\n",
    "        new_entry = {\n",
    "            \"odor\": float(match.group(1)),\n",
    "            \"xsrc\": float(match.group(2)),\n",
    "            \"ysrc\": float(match.group(3)),\n",
    "            \"U\": float(match.group(4)),\n",
    "            \"V\": float(match.group(5)),\n",
    "        }\n",
    "\n",
    "        # Add the new entry to the generated DataFrame\n",
    "        generated_df = generated_df.append(new_entry, ignore_index=True)\n",
    "    else:\n",
    "        print(\"Failed to parse generated text\")\n",
    "\n",
    "\n",
    "print(generated_df)"
   ]
  },
  {
   "cell_type": "code",
   "execution_count": null,
   "id": "presidential-darkness",
   "metadata": {},
   "outputs": [],
   "source": []
  }
 ],
 "metadata": {
  "kernelspec": {
   "display_name": "Python 3",
   "language": "python",
   "name": "python3"
  },
  "language_info": {
   "codemirror_mode": {
    "name": "ipython",
    "version": 3
   },
   "file_extension": ".py",
   "mimetype": "text/x-python",
   "name": "python",
   "nbconvert_exporter": "python",
   "pygments_lexer": "ipython3",
   "version": "3.8.7"
  }
 },
 "nbformat": 4,
 "nbformat_minor": 5
}
